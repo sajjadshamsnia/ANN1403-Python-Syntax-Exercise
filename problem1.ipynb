{
 "cells": [
  {
   "cell_type": "code",
   "execution_count": 45,
   "metadata": {},
   "outputs": [],
   "source": [
    "# Sajjad Shamsnia \n",
    "# problem1 \n",
    "Data = [(\"Peach\", 12), ('Kiwi', 7), 28, -91, ['Banana', 56], 'Apple', '123', 62, ('Mango', 24), 46.0, [528], ['Strawberry'], ('Grapes', 17), '96.3', ('Watermelon', 10), ('Orange', 21), ('Pineapple', 9), ('Pomegranate', 5), (52), 'Avocados', '25', -3.5]"
   ]
  },
  {
   "cell_type": "code",
   "execution_count": 32,
   "metadata": {},
   "outputs": [
    {
     "name": "stdout",
     "output_type": "stream",
     "text": [
      "[-91.0, -3.5, 25.0, 28.0, 46.0, 52.0, 56.0, 62.0, 96.3, 123.0, 528.0]\n"
     ]
    }
   ],
   "source": [
    "# part A\n",
    "none_tuple_number = []\n",
    "for i in Data:\n",
    "    try:\n",
    "        g = float(i)\n",
    "        none_tuple_number.append(g)\n",
    "    except:\n",
    "        if type(i) == list:\n",
    "            for j in i:\n",
    "                try:\n",
    "                    h = float(j)\n",
    "                    none_tuple_number.append(h)\n",
    "                except:\n",
    "                    continue\n",
    "\n",
    "none_tuple_number.sort()\n",
    "print(none_tuple_number)"
   ]
  },
  {
   "cell_type": "code",
   "execution_count": 46,
   "metadata": {},
   "outputs": [
    {
     "data": {
      "text/plain": [
       "[('Peach', 12),\n",
       " ('Kiwi', 7),\n",
       " 28,\n",
       " -91,\n",
       " ('Banana', 56),\n",
       " ('Apple', 5),\n",
       " '123',\n",
       " 62,\n",
       " ('Mango', 24),\n",
       " 46.0,\n",
       " [528],\n",
       " ('Strawberry', 5),\n",
       " ('Grapes', 17),\n",
       " '96.3',\n",
       " ('Watermelon', 10),\n",
       " ('Orange', 21),\n",
       " ('Pineapple', 9),\n",
       " ('Pomegranate', 5),\n",
       " 52,\n",
       " ('Avocados', 5),\n",
       " '25',\n",
       " -3.5]"
      ]
     },
     "execution_count": 46,
     "metadata": {},
     "output_type": "execute_result"
    }
   ],
   "source": [
    "# part B\n",
    "def changer(x):\n",
    "    Data_modified = []\n",
    "    for i in x:\n",
    "        if type(i) == tuple:\n",
    "            Data_modified.append(i)\n",
    "        elif type(i) == list:\n",
    "            if len(i) == 2:\n",
    "                Data_modified.append(tuple(i))\n",
    "            elif len(i) == 1:\n",
    "                if type(i[0]) == str:\n",
    "                    i.append(5)\n",
    "                    Data_modified.append(tuple(i))\n",
    "                else:\n",
    "                    Data_modified.append(i)\n",
    "        elif type(i) == str:\n",
    "                try:\n",
    "                     float(i)\n",
    "                     Data_modified.append(i)\n",
    "                except ValueError:\n",
    "                    tu = []\n",
    "                    tu.append(i)\n",
    "                    tu.append(5)\n",
    "                    Data_modified.append(tuple(tu))\n",
    "        else:\n",
    "            Data_modified.append(i)\n",
    "    return(Data_modified)\n",
    "\n",
    "changer(Data)"
   ]
  },
  {
   "cell_type": "markdown",
   "metadata": {},
   "source": []
  },
  {
   "cell_type": "code",
   "execution_count": 57,
   "metadata": {},
   "outputs": [
    {
     "data": {
      "text/plain": [
       "{'Peach': 12,\n",
       " 'Kiwi': 7,\n",
       " 'Banana': 56,\n",
       " 'Apple': 5,\n",
       " 'Mango': 24,\n",
       " 'Strawberry': 5,\n",
       " 'Grapes': 17,\n",
       " 'Watermelon': 10,\n",
       " 'Orange': 21,\n",
       " 'Pineapple': 9,\n",
       " 'Pomegranate': 5,\n",
       " 'Avocados': 5}"
      ]
     },
     "execution_count": 57,
     "metadata": {},
     "output_type": "execute_result"
    }
   ],
   "source": [
    "# part C\n",
    "def di_maker(x):\n",
    "    Data_dict = {}\n",
    "    for i in x:\n",
    "        if type(i) == tuple:\n",
    "            Data_dict[i[0]] = i[1]\n",
    "        else:\n",
    "            continue\n",
    "    return (Data_dict)\n",
    "\n",
    "di_maker(changer(Data))"
   ]
  }
 ],
 "metadata": {
  "kernelspec": {
   "display_name": "Python 3",
   "language": "python",
   "name": "python3"
  },
  "language_info": {
   "codemirror_mode": {
    "name": "ipython",
    "version": 3
   },
   "file_extension": ".py",
   "mimetype": "text/x-python",
   "name": "python",
   "nbconvert_exporter": "python",
   "pygments_lexer": "ipython3",
   "version": "3.12.2"
  }
 },
 "nbformat": 4,
 "nbformat_minor": 2
}
